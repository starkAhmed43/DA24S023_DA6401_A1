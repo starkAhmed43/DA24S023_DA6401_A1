{
 "cells": [
  {
   "cell_type": "markdown",
   "metadata": {},
   "source": [
    "# Question 1:\n",
    "\n",
    "Download the fashion-MNIST dataset and plot 1 sample image for each class as shown in the grid below. Use ```from keras.datasets import fashion_mnist``` for getting the fashion mnist dataset."
   ]
  },
  {
   "cell_type": "code",
   "execution_count": null,
   "metadata": {},
   "outputs": [],
   "source": [
    "import pandas as pd\n",
    "import matplotlib.pyplot as plt\n",
    "from keras.datasets import fashion_mnist"
   ]
  },
  {
   "cell_type": "code",
   "execution_count": null,
   "metadata": {},
   "outputs": [],
   "source": [
    "(x_train, y_train), (x_test, y_test) = fashion_mnist.load_data()"
   ]
  },
  {
   "cell_type": "code",
   "execution_count": null,
   "metadata": {},
   "outputs": [],
   "source": [
    "class_names = {0: \"T-shirt/top\",\n",
    "               1: \"Trouser\",\n",
    "               2: \"Pullover\",\n",
    "               3: \"Dress\",\n",
    "               4: \"Coat\",\n",
    "               5: \"Sandal\",\n",
    "               6: \"Shirt\",\n",
    "               7: \"Sneaker\",\n",
    "               8: \"Bag\",\n",
    "               9: \"Ankle boot\"}"
   ]
  },
  {
   "cell_type": "code",
   "execution_count": null,
   "metadata": {},
   "outputs": [],
   "source": [
    "plt.figure(figsize=(10, 4))\n",
    "for i in range(10):\n",
    "    idx = (y_train == i).nonzero()[0][0]\n",
    "    plt.subplot(2, 5, i + 1)\n",
    "    plt.xticks([])\n",
    "    plt.yticks([])\n",
    "    plt.grid(False)\n",
    "    plt.imshow(x_train[idx], cmap='gray')\n",
    "    plt.xlabel(class_names[i])\n",
    "plt.show()"
   ]
  },
  {
   "cell_type": "markdown",
   "metadata": {},
   "source": [
    "# Question 2:\n",
    "\n",
    "Implement a feedforward neural network which takes images from the fashion-mnist data as input and outputs a probability distribution over the 10 classes.\n",
    "\n",
    "Your code should be flexible such that it is easy to change the number of hidden layers and the number of neurons in each hidden layer."
   ]
  },
  {
   "cell_type": "code",
   "execution_count": null,
   "metadata": {},
   "outputs": [],
   "source": [
    "import numpy as np\n",
    "from neural_network import NeuralNetwork"
   ]
  },
  {
   "cell_type": "code",
   "execution_count": null,
   "metadata": {},
   "outputs": [],
   "source": [
    "# Specify a random no. of layers for the neural network for testing\n",
    "layers = np.random.randint(2, 10)\n",
    "\n",
    "# Specify no. of neurons in the input layer\n",
    "neurons_in_input_layer = x_train[0].reshape(-1).shape[0]\n",
    "\n",
    "# Randomly generate input for the input layer\n",
    "x = np.random.rand(neurons_in_input_layer)\n",
    "\n",
    "# Randomly generate no. of neurons for each of the input layers\n",
    "neurons_per_hidden_layer = [np.random.randint(1, 100) for _ in range(layers - 2)]\n",
    "\n",
    "# Specify no. of neurons in the output layer\n",
    "neurons_in_output_layer = 10\n",
    "\n",
    "# Final list specifying no. of neurons in each layer\n",
    "neurons_per_layer = [neurons_in_input_layer] + neurons_per_hidden_layer + [neurons_in_output_layer]\n",
    "\n",
    "print(f\"Layers: {layers}\")\n",
    "print(f\"Neurons per layer: {neurons_per_layer}\")"
   ]
  },
  {
   "cell_type": "code",
   "execution_count": null,
   "metadata": {},
   "outputs": [],
   "source": [
    "nn = NeuralNetwork(len(neurons_per_layer), neurons_per_layer)\n",
    "print(nn)"
   ]
  },
  {
   "cell_type": "code",
   "execution_count": null,
   "metadata": {},
   "outputs": [],
   "source": [
    "probs = nn.feedforward(x)\n",
    "print(f\"Shape of probabilities: {probs.shape}\")\n",
    "print(f\"Probabilities: {list(probs)}\")"
   ]
  }
 ],
 "metadata": {
  "kernelspec": {
   "display_name": "da6401",
   "language": "python",
   "name": "python3"
  },
  "language_info": {
   "codemirror_mode": {
    "name": "ipython",
    "version": 3
   },
   "file_extension": ".py",
   "mimetype": "text/x-python",
   "name": "python",
   "nbconvert_exporter": "python",
   "pygments_lexer": "ipython3",
   "version": "3.11.11"
  }
 },
 "nbformat": 4,
 "nbformat_minor": 2
}
